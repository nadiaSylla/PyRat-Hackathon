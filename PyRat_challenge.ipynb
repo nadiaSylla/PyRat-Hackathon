{
  "nbformat": 4,
  "nbformat_minor": 0,
  "metadata": {
    "colab": {
      "provenance": []
    },
    "kernelspec": {
      "name": "python3",
      "display_name": "Python 3"
    }
  },
  "cells": [
    {
      "cell_type": "markdown",
      "metadata": {
        "id": "2TuyPXbywCpq"
      },
      "source": [
        "<h1><b><center>How to use this file with PyRat?</center></b></h1>"
      ]
    },
    {
      "cell_type": "markdown",
      "metadata": {
        "id": "vGFn7-8SwIiR"
      },
      "source": [
        "Google Colab provides an efficient environment for writing codes collaboratively with your group. For us, teachers, it allows to come and see your advancement from time to time, and help you solve some bugs if needed.\n",
        "\n",
        "The PyRat software is a complex environment that takes as an input an AI file (as this file). It requires some resources as well as a few Python libraries, so we have installed it on a virtual machine for you.\n",
        "\n",
        "PyRat is a local program, and Google Colab is a distant tool. Therefore, we need to indicate the PyRat software where to get your code! In order to submit your program to PyRat, you should follow the following steps:\n",
        "\n",
        "1.   In this notebook, click on *Share* (top right corner of the navigator). Then, change sharing method to *Anyone with the link*, and copy the sharing link;\n",
        "2.   On the machine where the PyRat software is installed, start a terminal and navigate to your PyRat directory;\n",
        "3.   Run the command `python ./pyrat.py --rat \"<link>\" <options>`, where `<link>` is the share link copied in step 1. (put it between quotes), and `<options>` are other PyRat options you may need."
      ]
    },
    {
      "cell_type": "markdown",
      "metadata": {
        "id": "p9zlfF1iafqy"
      },
      "source": [
        "<h1><b><center>Pre-defined constants</center></b></h1>"
      ]
    },
    {
      "cell_type": "markdown",
      "metadata": {
        "id": "U7btUw_naI-R"
      },
      "source": [
        "A PyRat program should -- at each turn -- decide in which direction to move. This is done in the `turn` function later in this document, which should return one of the following constants:"
      ]
    },
    {
      "cell_type": "code",
      "metadata": {
        "id": "bnoalRWgaGxP"
      },
      "source": [
        "MOVE_DOWN = 'D'\n",
        "MOVE_LEFT = 'L'\n",
        "MOVE_RIGHT = 'R'\n",
        "MOVE_UP = 'U'"
      ],
      "execution_count": null,
      "outputs": []
    },
    {
      "cell_type": "markdown",
      "metadata": {
        "id": "tQF4Icesbar5"
      },
      "source": [
        "<h1><b><center>Your coding area</center></b></h1>"
      ]
    },
    {
      "cell_type": "markdown",
      "metadata": {
        "id": "dcKT5Itcbin1"
      },
      "source": [
        "Please put your functions, imports, constants, etc. between this text and the PyRat functions below. You can add as many code cells as you want, we just ask that you keep things organized (one function per cell, commented, etc.), so that it is easier for the teachers to help you debug your code!"
      ]
    },
    {
      "cell_type": "code",
      "metadata": {
        "id": "ghzFngwacFNa"
      },
      "source": [
        "moves=[]\n",
        "import heapq"
      ],
      "execution_count": null,
      "outputs": []
    },
    {
      "cell_type": "code",
      "metadata": {
        "id": "jXNoMpFhcFJu"
      },
      "source": [
        "def move_from_locations(source_location, target_location):\n",
        "\n",
        "    # Find difference between current and target location\n",
        "    difference = (target_location[0] - source_location[0], target_location[1] - source_location[1])\n",
        "\n",
        "    # Return the corresponding move\n",
        "    if difference == (0, -1) :\n",
        "        return MOVE_DOWN\n",
        "    elif difference == (0, 1) :\n",
        "        return MOVE_UP\n",
        "    elif difference == (1, 0) :\n",
        "        return MOVE_RIGHT\n",
        "    elif difference == (-1, 0) :\n",
        "        return MOVE_LEFT\n",
        "    else :\n",
        "        raise Exception(\"Impossible move\")"
      ],
      "execution_count": null,
      "outputs": []
    },
    {
      "cell_type": "code",
      "metadata": {
        "id": "soOxltZdcFEa"
      },
      "source": [
        "def moves_from_locations(locations):\n",
        "\n",
        "    # Transform a series of locations into corresponding moves to realize it\n",
        "    moves = []\n",
        "    for i in range(len(locations) - 1) :\n",
        "        moves.append(move_from_locations(locations[i], locations[i+1]))\n",
        "    return moves"
      ],
      "execution_count": null,
      "outputs": []
    },
    {
      "cell_type": "code",
      "metadata": {
        "id": "T790_6kTcE9Q"
      },
      "source": [
        "def find_route(routing_table, source_location, target_location):\n",
        "\n",
        "    # Return a sequence of locations from source to target using provided routing table\n",
        "    route = [target_location]\n",
        "    while route[0] != source_location :\n",
        "        route.insert(0, routing_table[route[0]])\n",
        "    return route"
      ],
      "execution_count": null,
      "outputs": []
    },
    {
      "cell_type": "code",
      "metadata": {
        "id": "2qsy-2kscEtp"
      },
      "source": [
        "def new_min_heap() :\n",
        "\n",
        "    # Create an empty min_heap\n",
        "    return []"
      ],
      "execution_count": null,
      "outputs": []
    },
    {
      "cell_type": "code",
      "metadata": {
        "id": "lPAMAzSGcHVh"
      },
      "source": [
        "def add_or_replace(min_heap, value, vertex, parent):\n",
        "  # entrée: min_heap (list), vertex(value), parent(value)\n",
        "  # sortie: min_heap dans laquelle on a ajouté ou modifié la distance associé au vertex\n",
        "\n",
        "    s=False\n",
        "    for i in range(len(min_heap)):\n",
        "        if min_heap[i][1]== vertex:# on verifie si le vertex existe déjà dans la min_heap\n",
        "            b= min_heap[i][0]\n",
        "            s=True\n",
        "            if b> value:# on compare les distances\n",
        "                del min_heap[i] # on ne peut pas modifier les tuples il faut donc supprimer l'ancien et ajouter le nouveau couple\n",
        "                heapq.heappush(min_heap, (value, vertex, parent))\n",
        "    if s==False:#le cas où le vertex n'existe pas deja dans la min_heap\n",
        "        heapq.heappush(min_heap, (value, vertex, parent))\n",
        "    return min_heap"
      ],
      "execution_count": null,
      "outputs": []
    },
    {
      "cell_type": "code",
      "metadata": {
        "id": "vp_7OZlgFq_D"
      },
      "source": [
        "def fast_dijkstra(start_vertex, target_vertices, maze_map) :\n",
        "    #entrée: current_vertex(\"start_vertex\"), list des sommets visés, graph\n",
        "    #sortie: liste des explored_vertices, la routing_table et le dernier vertex visité\n",
        "    #la différence avec un dijkstra classique est que fast_dijkstra arrète l'exploration des sommets dès qu'il atteint un fromage qui sera, dès lors, le fromage le plus proche géographiquement\n",
        "\n",
        "    # Initialize structure with initial vertex, at distance 0, with no predecessor\n",
        "    min_heap= new_min_heap()\n",
        "    add_or_replace(min_heap, 0, start_vertex, None)\n",
        "\n",
        "    # Initialize routing (main difference with course is we also store the length of paths stored with explored vertices)\n",
        "    explored_vertices = {}\n",
        "    routing_table = {}\n",
        "    # Loop until all vertices have been explored\n",
        "    while len(min_heap) > 0 :\n",
        "        # Pop next vetex to visit\n",
        "          distance, vertex, parent = heapq.heappop(min_heap)\n",
        "          if vertex not in explored_vertices :\n",
        "\n",
        "            # Store route to it\n",
        "            explored_vertices[vertex] = distance\n",
        "            routing_table[vertex]= parent\n",
        "\n",
        "            # Add its its neighbors to the structure for later consideration\n",
        "            for neighbor in list(maze_map[vertex].keys()) :\n",
        "                if neighbor not in explored_vertices :\n",
        "                    distance_to_neighbor = distance + maze_map[vertex][neighbor]\n",
        "                    add_or_replace(min_heap, distance_to_neighbor, neighbor, vertex)\n",
        "          for i in target_vertices:\n",
        "            # si on a déjà atteint un fromage alors on arrète la boucle et on renvoie les données de sortie\n",
        "            if i in explored_vertices:\n",
        "               return explored_vertices, routing_table, vertex\n",
        "\n",
        "\n",
        "    # Return shortest paths and routing table\n",
        "    return explored_vertices, routing_table, vertex"
      ],
      "execution_count": null,
      "outputs": []
    },
    {
      "cell_type": "code",
      "metadata": {
        "id": "ge771vVeXldA"
      },
      "source": [
        "def remove_list(list, element):\n",
        "  # entrée : liste, élément\n",
        "  # sortie : aucune\n",
        "  # enlever un élément d'une liste qui ne contient pas de doublon et dont on sait qu'elle contient cet élément\n",
        "  i=0\n",
        "  while list[i]!=element:\n",
        "      i=i+1\n",
        "  del list[i]"
      ],
      "execution_count": null,
      "outputs": []
    },
    {
      "cell_type": "code",
      "metadata": {
        "id": "rd4SMacXXt_f"
      },
      "source": [
        "def go_backwards(exp_player,exp_opponent,cheese_player,cheese_opponent):\n",
        "  # si l'adversaire est plus proche de notre fromage le plus proche, on change de cible par précaution\n",
        "  # entrée : les dictionnaires des sommets à visiter pour chacun des joueurs pour aller au fromage le plus proche (obtenus avec fast_dijkstra), la position des fromages potentiellement visés par chacun d'eux\n",
        "  # sortie : booléen indiquant si on abandonne le fromage visé ou pas\n",
        "  backwards=False\n",
        "  if cheese_opponent==cheese_player: # on vérifie si le fromage potenitellement ciblé par l'adversaire est le nôtre\n",
        "    distance_opponent=exp_opponent[cheese_opponent]\n",
        "    distance_player=exp_player[cheese_player]\n",
        "    if distance_opponent<=distance_player:\n",
        "      backwards=True # si l'adversaire est plus proche que nous, on change de fromage, donc il faut que le booléen soit \"True\"\n",
        "  return backwards"
      ],
      "execution_count": null,
      "outputs": []
    },
    {
      "cell_type": "code",
      "metadata": {
        "id": "ri3NJm4XXyRc"
      },
      "source": [
        "def sabotage(exp_player,exp_opponent,cheese_opponent):\n",
        "  # on pique le fromage de l'adversaire s'il est plus proche de nous que de lui, même si ce n'est ps le fromage qui minimise la distance\n",
        "  # entrées : les dictionnaires des sommets à visiter pour chacun des joueurs pour aller au fromage le plus proche de l'adversaire (obtenu avec le fast_dijkstra), position du fromage le plus proche de l'adversaire\n",
        "  # sortie : booléen indiquant si on pique le fromage ou pas\n",
        "  sabotage=False\n",
        "  distance_opponent=exp_opponent[cheese_opponent]\n",
        "  distance_player=exp_player[cheese_opponent]\n",
        "  if distance_player<distance_opponent:\n",
        "    sabotage=True # si on est plus près du fromage le plus proche de l'adversaire, on lui prend donc on initilaise le booléen en \"True\"\n",
        "  return sabotage"
      ],
      "execution_count": null,
      "outputs": []
    },
    {
      "cell_type": "code",
      "metadata": {
        "id": "ZYwLnq1cVKJu"
      },
      "source": [
        "def strategic_improved_greedy(maze_map, player_location, opponent_location, pieces_of_cheese):\n",
        "  # entrée: graph, position du joueur et de l'adversaire, et les postions des fromages (liste)\n",
        "  # sortie: liste des mouvements à suivre pour atteindre le fromage choisi\n",
        "  # on commence par fast_dijkstra, pour les 2 joueurs, car la stratégie repose aussi sur la position actuelle de l'adversaire\n",
        "  exp_player,rout_player,cheese_player=fast_dijkstra(player_location,pieces_of_cheese,maze_map)\n",
        "  exp_opponent,rout_opponent,cheese_opponent=fast_dijkstra(opponent_location,pieces_of_cheese,maze_map)\n",
        "  if go_backwards(exp_player,exp_opponent,cheese_player,cheese_opponent)==True: # on commence par regarder s'il serait mieux de changer de fromage par précaution\n",
        "    remove_list(pieces_of_cheese,cheese_player) # on retire le fromage visé actuellement de la liste des fromages à visiter\n",
        "    exp_player,rout_player,cheese_player=fast_dijkstra(player_location,pieces_of_cheese,maze_map) # on exécute à nouveau fast_dijkstra avec la liste de fromages qui n'inclut pas le fromage \"problématique\"\n",
        "    route=find_route(rout_player,player_location,cheese_player)\n",
        "    return moves_from_locations(route)\n",
        "  exp_player_sabotage,rout_player_sabotage,cheese_player_sabotage=fast_dijkstra(player_location,[cheese_opponent],maze_map) # sinon, on réutilise fast_dijkstra pour voir s'il serait intéressant de prendre le fromage le plus proche de l'adversaire ; la liste des cibles se réduit à cheese_opponent d'après la construcution de fast_dijkstra\n",
        "  if sabotage(exp_player_sabotage,exp_opponent,cheese_opponent)==True: # on regarde si on est plus proche du fromage le plus proche de l'adversaire\n",
        "    route=find_route(rout_player_sabotage,player_location,cheese_opponent)\n",
        "    return moves_from_locations(route)\n",
        "  route=find_route(rout_player,player_location,cheese_player) # sinon, aucune des deux stratégies n'est déployée donc on va simplement au fromage le plus proche de nous\n",
        "  return moves_from_locations(route)"
      ],
      "execution_count": null,
      "outputs": []
    },
    {
      "cell_type": "markdown",
      "metadata": {
        "id": "EjL8BEixcF3j"
      },
      "source": [
        "<h1><b><center>PyRat functions</center></b></h1>"
      ]
    },
    {
      "cell_type": "markdown",
      "metadata": {
        "id": "T1L9f0UAcN0p"
      },
      "source": [
        "The `preprocessing` function is called at the very start of a game. It is attributed a longer time compared to `turn`, which allows you to perform intensive computations. If you store the results of these computations into **global** variables, you will be able to reuse them in the `turn` function.\n",
        "\n",
        "*Input:*\n",
        "*   `maze_map` -- **dict(pair(int, int), dict(pair(int, int), int))** -- The map of the maze where the game takes place. This structure associates each cell with the dictionry of its neighbors. In that dictionary of neighbors, keys are cell coordinates, and associated values the number of moves required to reach that neighbor. As an example, `list(maze_map[(0, 0)].keys())` returns the list of accessible cells from `(0, 0)`. Then, if for example `(0, 1)` belongs to that list, one can access the number of moves to go from `(0, 0)` to `(0, 1)` by the code `maze_map[(0, 0)][0, 1)]`.\n",
        "*   `maze_width` -- **int** -- The width of the maze, in number of cells.\n",
        "*   `maze_height` -- **int** -- The height of the maze, in number of cells.\n",
        "*   `player_location` -- **pair(int, int)** -- The initial location of your character in the maze.\n",
        "*   `opponent_location` -- **pair(int,int)** -- The initial location of your opponent's character in the maze.\n",
        "*   `pieces_of_cheese` -- **list(pair(int, int))** -- The initial location of all pieces of cheese in the maze.\n",
        "*   `time_allowed` -- **float** -- The time you can take for preprocessing before the game starts checking for moves.\n",
        "\n",
        "*Output:*\n",
        "*   This function does not output anything."
      ]
    },
    {
      "cell_type": "code",
      "metadata": {
        "id": "vFa29qLAcOUb"
      },
      "source": [
        "def preprocessing (maze_map, maze_width, maze_height, player_location, opponent_location, pieces_of_cheese, time_allowed) :\n",
        "\n",
        "    # Example prints that appear in the shell only at the beginning of the game\n",
        "    # Remove them when you write your own program\n",
        "    print(\"maze_map\", type(maze_map), maze_map)\n",
        "    print(\"maze_width\", type(maze_width), maze_width)\n",
        "    print(\"maze_height\", type(maze_height), maze_height)\n",
        "    print(\"player_location\", type(player_location), player_location)\n",
        "    print(\"opponent_location\", type(opponent_location), opponent_location)\n",
        "    print(\"pieces_of_cheese\", type(pieces_of_cheese), pieces_of_cheese)\n",
        "    print(\"time_allowed\", type(time_allowed), time_allowed)"
      ],
      "execution_count": null,
      "outputs": []
    },
    {
      "cell_type": "markdown",
      "metadata": {
        "id": "QRi94kuZaVcx"
      },
      "source": [
        "The `turn` function is called each time the game is waiting\n",
        "for the player to make a decision (*i.e.*, to return a move among those defined above).\n",
        "\n",
        "*Input:*\n",
        "*   `maze_map` -- **dict(pair(int, int), dict(pair(int, int), int))** -- The map of the maze. It is the same as in the `preprocessing` function, just given here again for convenience.\n",
        "*   `maze_width` -- **int** -- The width of the maze, in number of cells.\n",
        "*   `maze_height` -- **int** -- The height of the maze, in number of cells.\n",
        "*   `player_location` -- **pair(int, int)** -- The current location of your character in the maze.\n",
        "*   `opponent_location` -- **pair(int,int)** -- The current location of your opponent's character in the maze.\n",
        "*   `player_score` -- **float** -- Your current score.\n",
        "*   `opponent_score` -- **float** -- The opponent's current score.\n",
        "*   `pieces_of_cheese` -- **list(pair(int, int))** -- The location of remaining pieces of cheese in the maze.\n",
        "*   `time_allowed` -- **float** -- The time you can take to return a move to apply before another time starts automatically.\n",
        "\n",
        "*Output:*\n",
        "*   A chosen move among `MOVE_UP`, `MOVE_DOWN`, `MOVE_LEFT` or `MOVE_RIGHT`."
      ]
    },
    {
      "cell_type": "code",
      "metadata": {
        "id": "qjDcXkelaG05"
      },
      "source": [
        "def turn (maze_map, maze_width, maze_height, player_location, opponent_location, player_score, opponent_score, pieces_of_cheese, time_allowed) :\n",
        "    global moves\n",
        "    # contrairement au greedy, on fait appel à la fonction improved_greedy à chaque turn. Ainsi, la liste des fromages sera modifiée si l'adversaire a deja pris un fromage vers lequel on se dirige\n",
        "    #On prend en compte la modification des fromages restant dû fait d'un adversaire présent dans la maze\n",
        "    moves= strategic_improved_greedy(maze_map, player_location,opponent_location, pieces_of_cheese)\n",
        "    return moves.pop(0)"
      ],
      "execution_count": null,
      "outputs": []
    }
  ]
}